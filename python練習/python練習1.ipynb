{
 "cells": [
  {
   "attachments": {},
   "cell_type": "markdown",
   "metadata": {},
   "source": [
    "変数を定義しその変数がどのような型なのか表示せよ,int型,str型,float型,bool型の4つを表示せよ"
   ]
  },
  {
   "cell_type": "code",
   "execution_count": null,
   "metadata": {},
   "outputs": [],
   "source": []
  },
  {
   "attachments": {},
   "cell_type": "markdown",
   "metadata": {},
   "source": [
    "変数をintで宣言しその後にstr型に変換し他の変数に代入し表示せよ(一緒に型も表示せよ)"
   ]
  },
  {
   "cell_type": "code",
   "execution_count": null,
   "metadata": {},
   "outputs": [],
   "source": []
  },
  {
   "attachments": {},
   "cell_type": "markdown",
   "metadata": {},
   "source": [
    "print(\"aa\",\"ii\")を実行した[aa ii]と出力されたそれをsepを用いて[aa,ii]として出力せよ"
   ]
  },
  {
   "cell_type": "code",
   "execution_count": null,
   "metadata": {},
   "outputs": [],
   "source": []
  },
  {
   "attachments": {},
   "cell_type": "markdown",
   "metadata": {},
   "source": [
    "下のコードを変更し1行に表示できるようにせよ"
   ]
  },
  {
   "cell_type": "code",
   "execution_count": null,
   "metadata": {},
   "outputs": [],
   "source": [
    "print(\"あい\")\n",
    "print(\"うえお\")"
   ]
  },
  {
   "attachments": {},
   "cell_type": "markdown",
   "metadata": {},
   "source": [
    "17と3を用いて加算,減算,乗算,除算,整数除算,余り,べき乗の7つをの答えを出力せよ"
   ]
  },
  {
   "cell_type": "code",
   "execution_count": null,
   "metadata": {},
   "outputs": [],
   "source": []
  },
  {
   "attachments": {},
   "cell_type": "markdown",
   "metadata": {},
   "source": [
    "17と3の除算結果を変数に代入し四捨五入し小数点台３位まで出力せよ"
   ]
  },
  {
   "cell_type": "code",
   "execution_count": null,
   "metadata": {},
   "outputs": [],
   "source": []
  },
  {
   "attachments": {},
   "cell_type": "markdown",
   "metadata": {},
   "source": [
    "print(\"say \"I dot't no\"\")を実行したがエラーできない改善せよ"
   ]
  },
  {
   "cell_type": "code",
   "execution_count": null,
   "metadata": {},
   "outputs": [],
   "source": [
    "print(\"say \"I don't no\"\")"
   ]
  },
  {
   "attachments": {},
   "cell_type": "markdown",
   "metadata": {},
   "source": [
    "for文を使わずにprint関数だけ使いHIを３回表示せよ(ヒント:*)"
   ]
  },
  {
   "cell_type": "code",
   "execution_count": null,
   "metadata": {},
   "outputs": [],
   "source": []
  },
  {
   "attachments": {},
   "cell_type": "markdown",
   "metadata": {},
   "source": [
    "変数の中に文字列(3文字以上)を代入しインデックス番号を指定し最初から2番目の文字を出力せよ"
   ]
  },
  {
   "cell_type": "code",
   "execution_count": null,
   "metadata": {},
   "outputs": [],
   "source": []
  },
  {
   "attachments": {},
   "cell_type": "markdown",
   "metadata": {},
   "source": [
    "スライスを用いて一つ上で宣言した変数の初めの文字から2文字を出力せよ"
   ]
  },
  {
   "cell_type": "code",
   "execution_count": null,
   "metadata": {},
   "outputs": [],
   "source": []
  },
  {
   "attachments": {},
   "cell_type": "markdown",
   "metadata": {},
   "source": [
    "変数がstr型だった場合文字を追加したり消去できない。しかしスライスを用いればできる。\n",
    "二つ上で宣言した変数の一番最初に\"お\"を付け足し表示せよ。print(\"お\"+変数)は反則\n",
    "変数を表示した際におが一番最初に表示されるようにすること。"
   ]
  },
  {
   "cell_type": "code",
   "execution_count": null,
   "metadata": {},
   "outputs": [],
   "source": []
  },
  {
   "attachments": {},
   "cell_type": "markdown",
   "metadata": {},
   "source": [
    "メソッドを用い変数が\"あ\"で文字で始まっているのかいないかを判定せよ。"
   ]
  },
  {
   "cell_type": "code",
   "execution_count": null,
   "metadata": {},
   "outputs": [],
   "source": [
    "a=\"あいうえお\"\n",
    "#以下コード記述"
   ]
  },
  {
   "attachments": {},
   "cell_type": "markdown",
   "metadata": {},
   "source": [
    "メソッドを用い変数の中に\"う\"がどこのインデックス番号にあるのか表示せよ。"
   ]
  },
  {
   "cell_type": "code",
   "execution_count": null,
   "metadata": {},
   "outputs": [],
   "source": [
    "a=\"あいうえお\"\n",
    "#以下コード記述\n"
   ]
  },
  {
   "attachments": {},
   "cell_type": "markdown",
   "metadata": {},
   "source": [
    "メソッドを用い、\"う\"が何個あるか表示せよ"
   ]
  },
  {
   "cell_type": "code",
   "execution_count": null,
   "metadata": {},
   "outputs": [],
   "source": [
    "a=\"あいうえおえあううあういう\"\n",
    "#以下コード記述"
   ]
  },
  {
   "attachments": {},
   "cell_type": "markdown",
   "metadata": {},
   "source": [
    "メソッドを用い、\"う\"を\"ぞ\"に置き換え表示せよ"
   ]
  },
  {
   "cell_type": "code",
   "execution_count": null,
   "metadata": {},
   "outputs": [],
   "source": [
    "a=\"あいうえおえあううあういう\"\n",
    "#以下コード記述"
   ]
  },
  {
   "attachments": {},
   "cell_type": "markdown",
   "metadata": {},
   "source": [
    "フォーマット関数用い\"my name is joy\"を表示せよ。joyをフォーマット関数の中に書くこと"
   ]
  },
  {
   "cell_type": "code",
   "execution_count": null,
   "metadata": {},
   "outputs": [],
   "source": []
  },
  {
   "attachments": {},
   "cell_type": "markdown",
   "metadata": {},
   "source": [
    "配列に\"abcd\"を一つづつ代入しtype()関数を用い型を表示せよ"
   ]
  },
  {
   "cell_type": "code",
   "execution_count": null,
   "metadata": {},
   "outputs": [],
   "source": []
  },
  {
   "attachments": {},
   "cell_type": "markdown",
   "metadata": {},
   "source": [
    "一つ上で宣言した配列の一番最後に\"e\"を代入し配列を表示せよ"
   ]
  },
  {
   "cell_type": "code",
   "execution_count": null,
   "metadata": {},
   "outputs": [],
   "source": []
  },
  {
   "attachments": {},
   "cell_type": "markdown",
   "metadata": {},
   "source": [
    "二つ上で宣言した配列の最後から2番目(インデックス番号3)に\"z\"を代入し配列を表示せよ"
   ]
  },
  {
   "cell_type": "code",
   "execution_count": null,
   "metadata": {},
   "outputs": [],
   "source": []
  },
  {
   "attachments": {},
   "cell_type": "markdown",
   "metadata": {},
   "source": [
    "三つ上で宣言した配列のインデックス番号3番の中身を消し配列を表示せよ!"
   ]
  },
  {
   "cell_type": "code",
   "execution_count": null,
   "metadata": {},
   "outputs": [],
   "source": []
  },
  {
   "attachments": {},
   "cell_type": "markdown",
   "metadata": {},
   "source": [
    "四つ上で宣言した配列の要素\"z\"を指定して消去せよ。インデックス番号を指定せずに要素だけを指定し消去すること"
   ]
  },
  {
   "cell_type": "code",
   "execution_count": null,
   "metadata": {},
   "outputs": [],
   "source": []
  },
  {
   "attachments": {},
   "cell_type": "markdown",
   "metadata": {},
   "source": [
    "配列list1,list2の2つを結合せよlist1にlist2を結合し結合した配列を出力せよ"
   ]
  },
  {
   "cell_type": "code",
   "execution_count": null,
   "metadata": {},
   "outputs": [],
   "source": [
    "list1=[0,1,2,3]\n",
    "list2=[7,6,5,4]\n",
    "#以下コード\n"
   ]
  },
  {
   "attachments": {},
   "cell_type": "markdown",
   "metadata": {},
   "source": [
    "メソッドを用い、一つ上で宣言した配列list1の中でどこに\"1\"があるのか調べよ。そしてそのインデックス番号を表示せよ"
   ]
  },
  {
   "cell_type": "code",
   "execution_count": null,
   "metadata": {},
   "outputs": [],
   "source": []
  },
  {
   "attachments": {},
   "cell_type": "markdown",
   "metadata": {},
   "source": [
    "メソッドを使い二つ上で宣言した配列list1を逆方向でソートしlist2を順方向でソートせよ。そしてlist1,list2を表示せよ。"
   ]
  },
  {
   "cell_type": "code",
   "execution_count": null,
   "metadata": {},
   "outputs": [],
   "source": []
  },
  {
   "attachments": {},
   "cell_type": "markdown",
   "metadata": {},
   "source": [
    "input関数で次のように入力されたそれは\",\"で要素が区切られていた。その要素を違うインデックス番号の箱に代入し出力せよ。入力(\"0,1,2,3,4,5\")\n",
    "配列中身[\"0\",\"1\",\"2\",\"3\",\"4\",\"5\"]"
   ]
  },
  {
   "cell_type": "code",
   "execution_count": null,
   "metadata": {},
   "outputs": [],
   "source": [
    "inputs=\"0,1,2,3,4,5\"\n",
    "#以下コード記述\n"
   ]
  },
  {
   "attachments": {},
   "cell_type": "markdown",
   "metadata": {},
   "source": [
    "joinメソッドを用い一つ上で宣言した配列を\"&\"で区切って表示せよ。"
   ]
  },
  {
   "cell_type": "code",
   "execution_count": null,
   "metadata": {},
   "outputs": [],
   "source": []
  },
  {
   "attachments": {},
   "cell_type": "markdown",
   "metadata": {},
   "source": [
    "以下リストのコピーの注意"
   ]
  },
  {
   "cell_type": "code",
   "execution_count": null,
   "metadata": {},
   "outputs": [],
   "source": [
    "list1=[0,1,2,3,4,5]\n",
    "#list1の要素をlist2にコピーしたい\n",
    "list2=list1\n",
    "print(list1,list2)"
   ]
  },
  {
   "attachments": {},
   "cell_type": "markdown",
   "metadata": {},
   "source": [
    "上でコピー完了と思ってしまうと思わぬ落とし穴がある。試しにlist1の要素を変更してみる"
   ]
  },
  {
   "cell_type": "code",
   "execution_count": null,
   "metadata": {},
   "outputs": [],
   "source": [
    "list1=[0,1,2,3,4,5]\n",
    "list2=list1\n",
    "list1[0]=1\n",
    "print(list1,list2)"
   ]
  },
  {
   "attachments": {},
   "cell_type": "markdown",
   "metadata": {},
   "source": [
    "list1[0]とlist2[0]の要素二つとも変わってしまう！！これはlist2=list1とは値を渡しているのではなく参照先(アドレス)を渡しているからである。\n",
    "c言語でいうポインターの考え方"
   ]
  },
  {
   "attachments": {},
   "cell_type": "markdown",
   "metadata": {},
   "source": [
    "要素だけを渡したいときはcopyメソッドを使わなきゃいけない。"
   ]
  },
  {
   "cell_type": "code",
   "execution_count": null,
   "metadata": {},
   "outputs": [],
   "source": [
    "list1=[0,1,2,3,4,5]\n",
    "list2=list1.copy()\n",
    "print(\"コピー前\")\n",
    "print(list1,list2)\n",
    "list1[0]=1\n",
    "print(\"コピー後\")\n",
    "print(list1,list2)"
   ]
  }
 ],
 "metadata": {
  "kernelspec": {
   "display_name": "base",
   "language": "python",
   "name": "python3"
  },
  "language_info": {
   "codemirror_mode": {
    "name": "ipython",
    "version": 3
   },
   "file_extension": ".py",
   "mimetype": "text/x-python",
   "name": "python",
   "nbconvert_exporter": "python",
   "pygments_lexer": "ipython3",
   "version": "3.9.13"
  },
  "orig_nbformat": 4
 },
 "nbformat": 4,
 "nbformat_minor": 2
}
